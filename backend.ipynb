{
 "cells": [
  {
   "cell_type": "markdown",
   "id": "a8d6a7fe",
   "metadata": {
    "tags": []
   },
   "source": [
    "# Backend for Spectral Methods for Heterogeneous-Agent Models"
   ]
  },
  {
   "cell_type": "markdown",
   "id": "edfa56dd-6911-4fc5-805f-9806df6edec3",
   "metadata": {
    "tags": []
   },
   "source": [
    "## Preamble"
   ]
  },
  {
   "cell_type": "code",
   "execution_count": 1,
   "id": "608b0f1a",
   "metadata": {},
   "outputs": [],
   "source": [
    "import sys\n",
    "import os\n",
    "import pickle\n",
    "\n",
    "import time\n",
    "from timeit import default_timer as timer\n",
    "from datetime import datetime\n",
    "\n",
    "import math\n",
    "\n",
    "import numpy as np\n",
    "import numpy.matlib\n",
    "np.set_printoptions(linewidth=220)\n",
    "\n",
    "import pandas as pd\n",
    "from IPython.display import display, HTML\n",
    "def pprint(df): display(HTML(pd.DataFrame(df).head(100).to_html()))\n",
    "\n",
    "import scipy as sp\n",
    "import scipy.interpolate\n",
    "import scipy.sparse as sparse\n",
    "from scipy.sparse.linalg import spsolve\n",
    "from scipy import optimize, integrate, stats\n",
    "from scipy.interpolate import barycentric_interpolate\n",
    "\n",
    "import matplotlib.pyplot as plt\n",
    "import matplotlib.colors as colors\n",
    "import matplotlib.ticker as ticker\n",
    "from matplotlib import cm\n",
    "from matplotlib.collections import LineCollection\n",
    "from mpl_toolkits.mplot3d import Axes3D\n",
    "%matplotlib inline\n",
    "%config InlineBackend.figure_format='retina'\n",
    "\n",
    "import dmsuite as dm\n",
    "\n",
    "from tqdm.notebook import tqdm, trange"
   ]
  },
  {
   "cell_type": "markdown",
   "id": "bbac0299",
   "metadata": {},
   "source": [
    "## Plot helpers"
   ]
  },
  {
   "cell_type": "markdown",
   "id": "29e12183-b796-4bbb-ac43-f2c139bdc865",
   "metadata": {},
   "source": [
    "### Saving"
   ]
  },
  {
   "cell_type": "code",
   "execution_count": 2,
   "id": "e7094f82-d79f-4c8b-9d9b-7a52d3e1a796",
   "metadata": {},
   "outputs": [],
   "source": [
    "def savefig(figorax, filename):\n",
    "        \n",
    "    if hasattr(figorax, '_suptitle'):\n",
    "        plt.setp(figorax._suptitle, visible=False)\n",
    "        plt.savefig('../figures/'+filename+'_notitle.pdf', bbox_inches='tight')\n",
    "        plt.setp(figorax._suptitle, visible=True)\n",
    "    elif hasattr(figorax, 'title'):\n",
    "        plt.setp(figorax.title, visible=False)\n",
    "        plt.savefig('../figures/'+filename+'_notitle.pdf', bbox_inches='tight')\n",
    "        plt.setp(figorax.title, visible=True)\n",
    "        \n",
    "    plt.savefig('../figures/'+filename+'.pdf', bbox_inches='tight')\n",
    "    plt.show()\n",
    "    print('Saved to: '+filename+'.pdf')"
   ]
  },
  {
   "cell_type": "markdown",
   "id": "b7757e05",
   "metadata": {},
   "source": [
    "### Matrix plots"
   ]
  },
  {
   "cell_type": "code",
   "execution_count": null,
   "id": "3d5de515-73ef-447d-a5e5-edb037663bc5",
   "metadata": {},
   "outputs": [],
   "source": [
    "def calcdensity(M): return (M!=0).sum() / M.size"
   ]
  },
  {
   "cell_type": "code",
   "execution_count": 3,
   "id": "3c17700c-2cf6-4065-90f2-a8f2b20c618c",
   "metadata": {},
   "outputs": [],
   "source": [
    "def plotmats(matrices, titles, shape, figsize, suptitle, filename):\n",
    "\n",
    "    fig, ax = plt.subplots(shape[0], shape[1], figsize=figsize)\n",
    "    ax = ax.flatten()\n",
    "    \n",
    "    for i, m in enumerate(matrices):\n",
    "        ax[i].matshow(m, cmap=cm.seismic, norm=colors.SymLogNorm(linthresh=0.03, linscale=0.03, vmin=-np.max(np.abs(m)), vmax=np.max(np.abs(m))))\n",
    "        ax[i].set_title(titles[i])\n",
    "\n",
    "    fig.suptitle(suptitle, size=14)\n",
    "    plt.tight_layout()\n",
    "    savefig(fig, filename)"
   ]
  },
  {
   "cell_type": "markdown",
   "id": "658c19e0",
   "metadata": {},
   "source": [
    "### 3D plots"
   ]
  },
  {
   "cell_type": "raw",
   "id": "b960e888-d183-4e8e-a0e6-8132c707199e",
   "metadata": {},
   "source": [
    "# General rule: pass x, y, ..., sss..."
   ]
  },
  {
   "cell_type": "raw",
   "id": "c06870c4-2383-44d3-b133-79741d90c163",
   "metadata": {},
   "source": [
    "def find_commmon_shape(xx, yy, zz):\n",
    "    assert xx.size == yy.size == zz.size\n",
    "    if xx.ndim > 1: return xx.shape\n",
    "    elif yy.ndim > 1: return yy.shape\n",
    "    elif zz.ndim > 1 : return zz.shape\n",
    "    elif len(np.unique(yy))*len(np.unique(xx)) == zz.size: return (len(np.unique(yy)),len(np.unique(xx)))\n",
    "    else: sys.exit('Could not determine target shape!')\n",
    "    \n",
    "def to_commmon_shape(xx, yy, zz):\n",
    "    commonshape = find_commmon_shape(xx, yy, zz)\n",
    "    return xx.reshape(commonshape), yy.reshape(commonshape), zz.reshape(commonshape)"
   ]
  },
  {
   "cell_type": "raw",
   "id": "17855cb2-4e30-48e5-9d3a-35d3790b933b",
   "metadata": {},
   "source": [
    "def plot_3D_surface(xx, yy, zz, suptitle=None, cmap=cm.magma, targetshape=None, filename=None):\n",
    "    '''CCC: comply with rule'''\n",
    "\n",
    "    xx_, yy_, zz_ = to_commmon_shape(xx.copy(), yy.copy(), zz.copy())\n",
    "\n",
    "    cmap = cmap.copy()\n",
    "    cmap.set_bad('red')\n",
    "\n",
    "    fig = plt.figure(figsize=(10,5))\n",
    "    ax0 = fig.add_subplot(121, projection='3d')\n",
    "    ax0.plot_surface(xx_, yy_, zz_, cmap=cmap, vmin=np.nanmin(zz_), vmax=np.nanmax(zz_), linewidth=0, rstride=1, cstride=1, antialiased=True)\n",
    "    ax0.view_init(30, 35+180)\n",
    "    \n",
    "    ax1 = fig.add_subplot(122)\n",
    "    ax1.pcolormesh(xx_, yy_, zz_, cmap=cmap, shading='auto')\n",
    "    \n",
    "    plt.suptitle(suptitle, size=20, y=1)\n",
    "    plt.tight_layout()\n",
    "    \n",
    "    if filename is not None: savefig(fig, filename)\n",
    "    else: plt.show()"
   ]
  },
  {
   "cell_type": "raw",
   "id": "d77f4a57-0efc-4037-a24f-d53538c48f33",
   "metadata": {},
   "source": [
    "def plot_3D_surfaces_side_by_side(xx_left, yy_left, zz_left, xx_right, yy_right, zz_right,\n",
    "                                  title_left, title_right, suptitle, filename=None,\n",
    "                                  sharez=True, showmeans=False, clipmask_left=None, clipmask_right=None,\n",
    "                                  cmap=cm.magma, showedges=False):\n",
    "    \n",
    "    assert xx_left.size == yy_left.size == zz_left.size\n",
    "    assert xx_right.size == yy_right.size == xx_right.size\n",
    "    \n",
    "    xx_left_, yy_left_, zz_left_ = to_commmon_shape(xx_left.copy(), yy_left.copy(), zz_left.copy())\n",
    "    xx_right_, yy_right_, zz_right_ = to_commmon_shape(xx_right.copy(), yy_right.copy(), zz_right.copy())\n",
    " \n",
    "    if sharez:\n",
    "        zmin = np.nanmin([np.nanmin(zz_left), np.nanmin(zz_right)])\n",
    "        zmax = np.nanmax([np.nanmax(zz_left), np.nanmax(zz_right)])\n",
    "    else: zmin, zmax = None, None\n",
    "    \n",
    "    if showmeans:\n",
    "        title_left = title_left + '\\n\\n Abs. mean: {:.2e}'.format(np.nanmean(np.abs(zz_left))) + ' - Abs. median: {:.2e}'.format(np.nanmedian(np.abs(zz_left)))\n",
    "        title_right = title_right + '\\n\\n Abs. mean: {:.2e}'.format(np.nanmean(np.abs(zz_right))) + ' - Abs. median: {:.2e}'.format(np.nanmedian(np.abs(zz_right)))\n",
    "        \n",
    "    if clipmask_left is not None:\n",
    "        clipmask_left_ = clipmask_left.reshape(zz_left_.shape)\n",
    "        xx_left_[clipmask_left_], yy_left_[clipmask_left_], zz_left_[clipmask_left_] = np.nan, np.nan, np.nan\n",
    "    if clipmask_right is not None:\n",
    "        clipmask_right_ = clipmask_right.reshape(zz_right_.shape)\n",
    "        xx_right_[clipmask_right], yy_right_[clipmask_right_], zz_right_[clipmask_right_] = np.nan, np.nan, np.nan\n",
    "    \n",
    "    fig = plt.figure(figsize=(10,5))\n",
    "        \n",
    "    ax0 = fig.add_subplot(121, projection='3d')\n",
    "    ax0.set_proj_type('ortho')\n",
    "    if showedges: ax0.plot_surface(xx_left_, yy_left_, zz_left_, cmap=cmap, vmin=zmin, vmax=zmax, linewidth=0.5, edgecolors='k', rstride=1, cstride=1, antialiased=True)\n",
    "    else: ax0.plot_surface(xx_left_, yy_left_, zz_left_, cmap=cmap, vmin=zmin, vmax=zmax, linewidth=0, rstride=1, cstride=1, antialiased=True)\n",
    "    ax0.view_init(30, 35+180)\n",
    "    ax0.set_title(title_left)\n",
    "    ax0.set_zlim3d([zmin, zmax])\n",
    "\n",
    "    ax1 = fig.add_subplot(122, projection='3d')\n",
    "    ax1.set_proj_type('ortho')\n",
    "    if showedges: ax1.plot_surface(xx_right_, yy_right_, zz_right_, cmap=cmap, vmin=zmin, vmax=zmax, linewidth=0.5, edgecolors='k', rstride=1, cstride=1, antialiased=True)\n",
    "    else: ax1.plot_surface(xx_right_, yy_right_, zz_right_, cmap=cmap, vmin=zmin, vmax=zmax, linewidth=5, rstride=1, cstride=1, antialiased=True)\n",
    "    ax1.view_init(30, 35+180)\n",
    "    ax1.set_title(title_right)\n",
    "    ax1.set_zlim3d([zmin, zmax])\n",
    "        \n",
    "    ax0.ticklabel_format(axis='z', style='sci', scilimits=(-4,4), useOffset=False, useMathText=True)\n",
    "    ax1.ticklabel_format(axis='z', style='sci', scilimits=(-4,4), useOffset=False, useMathText=True) \n",
    "    fig.canvas.draw()\n",
    "    \n",
    "    if ax0.zaxis.get_offset_text().get_text() != '':\n",
    "        ax0.zaxis.get_offset_text().set_visible(False)\n",
    "        if sharez: suptitle = suptitle + ' ('+ax0.zaxis.get_offset_text().get_text()+')'\n",
    "        elif showmeans: title_left = title_left.replace('\\n\\n', ' ('+ax0.zaxis.get_offset_text().get_text()+') \\n\\n')\n",
    "        else: title_left = title_left + ' ('+ax1.zaxis.get_offset_text().get_text()+')'\n",
    "    if ax1.zaxis.get_offset_text().get_text() != '':\n",
    "        ax1.zaxis.get_offset_text().set_visible(False)\n",
    "        if not sharez and showmeans: title_right = title_right.replace('\\n\\n', ' ('+ax1.zaxis.get_offset_text().get_text()+') \\n\\n')\n",
    "        elif not sharez: title_right = title_right + ' ('+ax1.zaxis.get_offset_text().get_text()+')'\n",
    "        \n",
    "    ax0.set_title(title_left)\n",
    "    ax0.set_xlabel('z')\n",
    "    ax0.set_ylabel('a')\n",
    "    ax1.set_title(title_right)\n",
    "    ax1.set_xlabel('z')\n",
    "    ax1.set_ylabel('a')\n",
    "       \n",
    "    fig.suptitle(suptitle, size=20, y=1)\n",
    "    plt.tight_layout()\n",
    "    \n",
    "    if filename is not None: savefig(fig, filename)\n",
    "    else: plt.show()"
   ]
  },
  {
   "cell_type": "code",
   "execution_count": 4,
   "id": "75435bf2-6e48-4f97-be49-08963286cc75",
   "metadata": {},
   "outputs": [],
   "source": [
    "def plot_3D_surfaces_side_by_side(xx_left, yy_left, zz_left, xx_right, yy_right, zz_right,\n",
    "                                  title_left, title_right, suptitle, filename=None,\n",
    "                                  sharez=True, showmeans=False, clipmask_left=None, clipmask_right=None,\n",
    "                                  xlabel='z', ylabel='a', cmap=cm.magma, showedges=False):\n",
    "    \n",
    "    \n",
    "    targetshape_left = (len(np.unique(yy_left)), len(np.unique(xx_left)))\n",
    "    xx_left_, yy_left_, zz_left_ = xx_left.copy().reshape(targetshape_left), yy_left.copy().reshape(targetshape_left), zz_left.copy().reshape(targetshape_left)\n",
    "    \n",
    "    targetshape_right = (len(np.unique(yy_right)), len(np.unique(xx_right)))\n",
    "    xx_right_, yy_right_, zz_right_ = xx_right.copy().reshape(targetshape_right), yy_right.copy().reshape(targetshape_right), zz_right.copy().reshape(targetshape_right)\n",
    " \n",
    "    if sharez: zmin, zmax = np.nanmin([np.nanmin(zz_left), np.nanmin(zz_right)]), np.nanmax([np.nanmax(zz_left), np.nanmax(zz_right)])\n",
    "    else: zmin, zmax = None, None\n",
    "    \n",
    "    if showmeans:\n",
    "        title_left = title_left + '\\n\\n Abs. mean: {:.2e}'.format(np.nanmean(np.abs(zz_left))) + ' - Abs. median: {:.2e}'.format(np.nanmedian(np.abs(zz_left)))\n",
    "        title_right = title_right + '\\n\\n Abs. mean: {:.2e}'.format(np.nanmean(np.abs(zz_right))) + ' - Abs. median: {:.2e}'.format(np.nanmedian(np.abs(zz_right)))\n",
    "        \n",
    "    if clipmask_left is not None:\n",
    "        clipmask_left_ = clipmask_left.reshape(targetshape_left)\n",
    "        xx_left_[clipmask_left_], yy_left_[clipmask_left_], zz_left_[clipmask_left_] = np.nan, np.nan, np.nan\n",
    "    if clipmask_right is not None:\n",
    "        clipmask_right_ = clipmask_right.reshape(targetshape_right)\n",
    "        xx_right_[clipmask_right], yy_right_[clipmask_right_], zz_right_[clipmask_right_] = np.nan, np.nan, np.nan\n",
    "    \n",
    "    fig = plt.figure(figsize=(10,5))\n",
    "        \n",
    "    ax0 = fig.add_subplot(121, projection='3d')\n",
    "    ax0.set_proj_type('ortho')\n",
    "    if showedges: ax0.plot_surface(xx_left_, yy_left_, zz_left_, cmap=cmap, vmin=zmin, vmax=zmax, linewidth=0.5, edgecolors='k', rstride=1, cstride=1, antialiased=True)\n",
    "    else: ax0.plot_surface(xx_left_, yy_left_, zz_left_, cmap=cmap, vmin=zmin, vmax=zmax, linewidth=0, rstride=1, cstride=1, antialiased=True)\n",
    "    ax0.view_init(30, 35+180)\n",
    "    ax0.set_title(title_left)\n",
    "    ax0.set_zlim3d([zmin, zmax])\n",
    "\n",
    "    ax1 = fig.add_subplot(122, projection='3d')\n",
    "    ax1.set_proj_type('ortho')\n",
    "    if showedges: ax1.plot_surface(xx_right_, yy_right_, zz_right_, cmap=cmap, vmin=zmin, vmax=zmax, linewidth=0.5, edgecolors='k', rstride=1, cstride=1, antialiased=True)\n",
    "    else: ax1.plot_surface(xx_right_, yy_right_, zz_right_, cmap=cmap, vmin=zmin, vmax=zmax, linewidth=5, rstride=1, cstride=1, antialiased=True)\n",
    "    ax1.view_init(30, 35+180)\n",
    "    ax1.set_title(title_right)\n",
    "    ax1.set_zlim3d([zmin, zmax])\n",
    "        \n",
    "    ax0.ticklabel_format(axis='z', style='sci', scilimits=(-4,4), useOffset=False, useMathText=True)\n",
    "    ax1.ticklabel_format(axis='z', style='sci', scilimits=(-4,4), useOffset=False, useMathText=True) \n",
    "    fig.canvas.draw()\n",
    "    \n",
    "    if ax0.zaxis.get_offset_text().get_text() != '':\n",
    "        ax0.zaxis.get_offset_text().set_visible(False)\n",
    "        if sharez: suptitle = suptitle + ' ('+ax0.zaxis.get_offset_text().get_text()+')'\n",
    "        elif showmeans: title_left = title_left.replace('\\n\\n', ' ('+ax0.zaxis.get_offset_text().get_text()+') \\n\\n')\n",
    "        else: title_left = title_left + ' ('+ax1.zaxis.get_offset_text().get_text()+')'\n",
    "    if ax1.zaxis.get_offset_text().get_text() != '':\n",
    "        ax1.zaxis.get_offset_text().set_visible(False)\n",
    "        if not sharez and showmeans: title_right = title_right.replace('\\n\\n', ' ('+ax1.zaxis.get_offset_text().get_text()+') \\n\\n')\n",
    "        elif not sharez: title_right = title_right + ' ('+ax1.zaxis.get_offset_text().get_text()+')'\n",
    "        \n",
    "    ax0.set_title(title_left)\n",
    "    ax0.set_xlabel(xlabel)\n",
    "    ax0.set_ylabel(ylabel)\n",
    "    ax1.set_title(title_right)\n",
    "    ax1.set_xlabel(xlabel)\n",
    "    ax1.set_ylabel(ylabel)\n",
    "       \n",
    "    fig.suptitle(suptitle, size=20, y=1)\n",
    "    plt.tight_layout()\n",
    "    \n",
    "    if filename is not None: savefig(fig, filename)\n",
    "    else: plt.show()"
   ]
  },
  {
   "cell_type": "code",
   "execution_count": 1,
   "id": "07756829",
   "metadata": {},
   "outputs": [],
   "source": [
    "nice_sizes_dict = {4:(2,2), 9:(3,3), 10:(2, 5), 12:(3, 4), 20:(4, 5)}\n",
    "\n",
    "def sizes_from_samples(samples, ratio=2/3):\n",
    "    if samples in nice_sizes_dict.keys(): nice_sizes_dict[samples]\n",
    "    else:\n",
    "        nhorizontal = math.ceil((samples/ratio)**0.5)\n",
    "        nvertical = math.ceil(samples/nhorizontal)\n",
    "        return nhorizontal,nvertical"
   ]
  },
  {
   "cell_type": "code",
   "execution_count": 6,
   "id": "6fe0f9a0-6119-4bbf-a791-bffc8bba3b5b",
   "metadata": {},
   "outputs": [],
   "source": [
    "def plot_3D_surface_split(z, x, y, sss, zlabel='z', xlabel='x', ylabel='y', samples=6, cmap=cm.magma, sharez=True, suptitle=None, filename=None):\n",
    "    \n",
    "    sss_ = sss.reshape((len(z), len(x), len(y)))    \n",
    "    xx, yy = np.meshgrid(y, x)\n",
    "\n",
    "    nhorizontal, nvertical = sizes_from_samples(samples, ratio=2/3)\n",
    "    \n",
    "    fig, ax = plt.subplots(nvertical, nhorizontal, figsize=(16,8), subplot_kw={'projection':'3d'})\n",
    "    ax = ax.flatten()\n",
    "    \n",
    "    z_samples = np.linspace(0, len(z)-1, samples).astype('int')\n",
    "    z_samples_isint = np.allclose(z[z_samples].astype('int'), z[z_samples])\n",
    "\n",
    "    for i in range(nvertical*nhorizontal):\n",
    "        if i<samples:\n",
    "            ax[i].plot_surface(xx, yy, sss_[z_samples[i],:,:], cmap=cmap, linewidth=0, antialiased=True)\n",
    "            ax[i].view_init(30, 35+180)\n",
    "            if z_samples_isint:  ax[i].set_title(zlabel+f'={z[z_samples[i]]:n}')\n",
    "            else: ax[i].set_title(zlabel+f'={z[z_samples[i]]:.2f}')\n",
    "            ax[i].set_xlabel(xlabel)\n",
    "            ax[i].set_ylabel(ylabel)\n",
    "            if sharez: ax[i].set_zlim(sss.min(), sss.max())\n",
    "        else: ax[i].set_axis_off()\n",
    "    \n",
    "    plt.suptitle(suptitle, size=20, y=1)\n",
    "    plt.tight_layout()\n",
    "    \n",
    "    if filename is not None: savefig(fig, filename)\n",
    "    else: plt.show()"
   ]
  },
  {
   "cell_type": "raw",
   "id": "907c82ef-0bbd-44d2-8841-2cf74dffb00f",
   "metadata": {},
   "source": [
    "# CCC: delete?\n",
    "\n",
    "def plot_a_cross_sections(field, a_loc, midx_loc, n=5, symlog=False):\n",
    "    fig, ax = plt.subplots(figsize=(18, 6))\n",
    "    for aval in a_loc[:n]:\n",
    "        avalidx = int_index_from_labels(midx_loc, ([aval],slice(None)))\n",
    "        plt.plot(midx_loc.unique('z'), field[avalidx], label='a:'+str(np.round(aval, 2)))\n",
    "    plt.legend()\n",
    "    if symlog: plt.yscale('symlog', linthresh=1e-3)\n",
    "    plt.show()\n",
    "    \n",
    "def plot_z_cross_sections(field, z_loc, midx_loc, n=5, symlog=False):\n",
    "    fig, ax = plt.subplots(figsize=(18, 6))\n",
    "    for zval in z_loc[:n]:\n",
    "        zvalidx = int_index_from_labels(midx_loc, (slice(None),[zval]))\n",
    "        plt.plot(midx_loc.unique('a'), field[zvalidx], label='z:'+str(np.round(zval, 2)))\n",
    "    plt.legend()\n",
    "    if symlog: plt.yscale('symlog', linthresh=1e-3)\n",
    "    plt.show()"
   ]
  },
  {
   "cell_type": "markdown",
   "id": "80f15197-46bd-4044-bca2-af6508de03a7",
   "metadata": {},
   "source": [
    "### Miscellaneous"
   ]
  },
  {
   "cell_type": "code",
   "execution_count": 7,
   "id": "fd33648b-aa77-48ec-93bd-52a3b8450f32",
   "metadata": {},
   "outputs": [],
   "source": [
    "from matplotlib.ticker import Locator, LogLocator, AutoLocator, LinearLocator\n",
    "\n",
    "class MinorSymLogLocator(Locator):\n",
    "    \"\"\"\n",
    "    Minor tick positions for a symlog axis. From: https://stackoverflow.com/a/45696768\n",
    "    \"\"\"\n",
    "    def __init__(self, linthresh, nints=10):\n",
    "        self.linthresh = linthresh\n",
    "        self.nintervals = nints\n",
    "\n",
    "    def __call__(self):\n",
    "        majorlocs = self.axis.get_majorticklocs()\n",
    "\n",
    "        if len(majorlocs) == 1:\n",
    "            return self.raise_if_exceeds(np.array([]))\n",
    "\n",
    "        dmlower = majorlocs[1] - majorlocs[0]\n",
    "        dmupper = majorlocs[-1] - majorlocs[-2]\n",
    "\n",
    "        if majorlocs[0] != 0. and ((majorlocs[0] != self.linthresh and dmlower > self.linthresh) or (dmlower == self.linthresh and majorlocs[0] < 0)):\n",
    "            majorlocs = np.insert(majorlocs, 0, majorlocs[0]*10.)\n",
    "        else:\n",
    "            majorlocs = np.insert(majorlocs, 0, majorlocs[0]-self.linthresh)\n",
    "\n",
    "        if majorlocs[-1] != 0. and ((np.abs(majorlocs[-1]) != self.linthresh and dmupper > self.linthresh) or (dmupper == self.linthresh and majorlocs[-1] > 0)):\n",
    "            majorlocs = np.append(majorlocs, majorlocs[-1]*10.)\n",
    "        else:\n",
    "            majorlocs = np.append(majorlocs, majorlocs[-1]+self.linthresh)\n",
    "\n",
    "        minorlocs = []\n",
    "\n",
    "        for i in range(1, len(majorlocs)):\n",
    "            majorstep = majorlocs[i] - majorlocs[i-1]\n",
    "            if abs(majorlocs[i-1] + majorstep/2) < self.linthresh:\n",
    "                ndivs = self.nintervals\n",
    "            else:\n",
    "                ndivs = self.nintervals - 1.\n",
    "\n",
    "            minorstep = majorstep / ndivs\n",
    "            locs = np.arange(majorlocs[i-1], majorlocs[i], minorstep)[1:]\n",
    "            minorlocs.extend(locs)\n",
    "\n",
    "        return self.raise_if_exceeds(np.array(minorlocs))\n",
    "\n",
    "    def tick_values(self, vmin, vmax):\n",
    "        raise NotImplementedError('Cannot get tick locations for a %s type.' % type(self))"
   ]
  },
  {
   "cell_type": "markdown",
   "id": "aa7f80f6-e71f-408d-b81b-adfe1c433eb8",
   "metadata": {
    "tags": []
   },
   "source": [
    "## Differentiation matrix helpers"
   ]
  },
  {
   "cell_type": "code",
   "execution_count": 8,
   "id": "811e26e8-161f-4db2-ad77-7c0117de4b31",
   "metadata": {},
   "outputs": [],
   "source": [
    "def rescale_nodes_and_derivatives(nodes, Ds, left, right): \n",
    "    a = (right-left)/(nodes[-1]-nodes[0])\n",
    "    b = - (left+right)/(nodes[-1]-nodes[0])\n",
    "    rescalednodes = a*nodes+b\n",
    "    rescaledDs = np.zeros_like(Ds)\n",
    "    for d in range(len(Ds)): rescaledDs[d,:,:] = pow(a, -(d+1))*Ds[d]\n",
    "    return rescalednodes, rescaledDs"
   ]
  },
  {
   "cell_type": "raw",
   "id": "29637f56-a58e-46ce-94c5-2e18a0bfcce0",
   "metadata": {},
   "source": [
    "def kronecker_broadcast_along_index_level(M, multiindex, broadcastlevel):\n",
    "    assert multiindex.is_unique\n",
    "    assert len(multiindex.unique(broadcastlevel)) == M.shape[0], 'M size and broadcastlevel incompatible!'\n",
    "    MM = M.copy()\n",
    "    for indexlevel in multiindex.names:\n",
    "        if multiindex.names.index(indexlevel) < multiindex.names.index(broadcastlevel):\n",
    "            if sparse.issparse(M): MM = sparse.kron(sparse.eye(len(multiindex.unique(indexlevel))),MM,format='csr')\n",
    "            elif M.squeeze().ndim == 1: MM = np.kron(np.ones(len(multiindex.unique(indexlevel))),MM)\n",
    "            else: MM = np.kron(np.eye(len(multiindex.unique(indexlevel))),MM)\n",
    "        elif multiindex.names.index(indexlevel) > multiindex.names.index(broadcastlevel):\n",
    "            if sparse.issparse(M): MM = sparse.kron(MM,sparse.eye(len(multiindex.unique(indexlevel))),format='csr')\n",
    "            elif M.squeeze().ndim == 1: np.kron(MM,np.ones(len(multiindex.unique(indexlevel))))\n",
    "            else: MM = np.kron(MM,np.eye(len(multiindex.unique(indexlevel))))\n",
    "    return MM"
   ]
  },
  {
   "cell_type": "code",
   "execution_count": 15,
   "id": "dd1c87b1-ed7e-49ed-8ff1-a5e4a34a5055",
   "metadata": {},
   "outputs": [],
   "source": [
    "def kronecker_broadcast_along_index_level(M, multiindex, broadcastlevel):\n",
    "    assert len(multiindex.unique(broadcastlevel)) == M.shape[0], 'M size and broadcastlevel incompatible!'\n",
    "    MM = M.copy()\n",
    "    for indexlevel in multiindex.names:\n",
    "        if multiindex.names.index(indexlevel) < multiindex.names.index(broadcastlevel):\n",
    "            MM = sparse.kron(sparse.eye(len(multiindex.unique(indexlevel))), MM, format='csr')\n",
    "        elif multiindex.names.index(indexlevel) > multiindex.names.index(broadcastlevel):\n",
    "            MM = sparse.kron(MM, sparse.eye(len(multiindex.unique(indexlevel))), format='csr')\n",
    "    if not sparse.issparse(M): MM = MM.toarray()\n",
    "    return MM"
   ]
  },
  {
   "cell_type": "markdown",
   "id": "62510b61-2955-488c-b32a-9060cf7a2d68",
   "metadata": {
    "tags": []
   },
   "source": [
    "## Masking and indexing helpers"
   ]
  },
  {
   "cell_type": "code",
   "execution_count": 10,
   "id": "639afa19-5ac8-424e-bfbc-8476cfd6a8a0",
   "metadata": {},
   "outputs": [],
   "source": [
    "def mask_from_int_idx(fullidx, idx):\n",
    "    return np.array([x in idx for x in range(len(fullidx))])\n",
    "\n",
    "def list_of_lists_from_int_idx(idx):\n",
    "    return np.array([[i] for i in list(idx)])"
   ]
  },
  {
   "cell_type": "code",
   "execution_count": 11,
   "id": "1f9a65b0",
   "metadata": {},
   "outputs": [],
   "source": [
    "def int_index_from_labels(multiindex, labels):\n",
    "    return pd.Series(np.arange(multiindex.size), index=multiindex).loc[labels].values\n",
    "\n",
    "def mask_from_labels(multiindex, labels):\n",
    "    idx = int_index_from_labels(multiindex, labels)\n",
    "    return np.array([x in idx for x in range(len(multiindex))])"
   ]
  },
  {
   "cell_type": "raw",
   "id": "9446e533-e0a5-481f-b481-ab329926f083",
   "metadata": {},
   "source": [
    "def mask_from_negative_labels(multiindex, labels):\n",
    "    return ~mask_from_labels(multiindex, labels)\n",
    "    \n",
    "def int_index_from_negative_labels(multiindex, labels):\n",
    "    negativemask = mask_from_negative_labels(multiindex, labels)\n",
    "    return numpy.where(negativemask)[0]"
   ]
  },
  {
   "cell_type": "raw",
   "id": "aaaa5821-43eb-42f0-9d21-28cdd29b5e9e",
   "metadata": {},
   "source": [
    "def test_generator(matrix):\n",
    "    print('Diagonal -> Min:', matrix.diagonal().min(), ' Mean:', matrix.diagonal().mean(), ' Max:', matrix.diagonal().max())\n",
    "    zerodiag = if scipy.sparse.issparse(matrix): zerodiag = (matrix - sparse.diags([matrix.diagonal()], [0]))\n",
    "    else: zerodiag = (matrix - np.diag(np.array(matrix).diagonal()))\n",
    "    print('Off-diagonal -> Min:', zerodiag.min(), ' Mean:', zerodiag.mean(), ' Max:', zerodiag.max())\n",
    "    print('Maximum absolute off-diagonal vs diagonal error:', np.abs(np.sum(matrix, axis=1)).max())"
   ]
  },
  {
   "cell_type": "code",
   "execution_count": 12,
   "id": "ab3a8fde-f790-46ef-a6fd-9a1a5ae2be64",
   "metadata": {},
   "outputs": [],
   "source": [
    "def test_generator(matrix):\n",
    "    print('Diagonal -> Min:', matrix.diagonal().min(), ' Mean:', matrix.diagonal().mean(), ' Max:', matrix.diagonal().max())\n",
    "    if scipy.sparse.issparse(matrix): zerodiag = matrix - sparse.diags(matrix.diagonal())\n",
    "    else: zerodiag = matrix - np.diag(matrix.diagonal())\n",
    "    print('Off-diagonal -> Min:', zerodiag.min(), ' Mean:', zerodiag.mean(), ' Max:', zerodiag.max())\n",
    "    print('Maximum absolute off-diagonal vs diagonal error:', np.abs(np.sum(matrix, axis=1)).max())\n",
    "\n",
    "def test_transpose_generator(matrix):\n",
    "    test_generator(matrix.T)"
   ]
  },
  {
   "cell_type": "markdown",
   "id": "83873c4d",
   "metadata": {},
   "source": [
    "## Interpolation helpers"
   ]
  },
  {
   "cell_type": "code",
   "execution_count": 13,
   "id": "fc6fdbcf",
   "metadata": {},
   "outputs": [],
   "source": [
    "def ndspline(a_rough, z_rough, t_rough, s_rough, a_fine, z_fine, t_fine):\n",
    "    N, M, L = len(a_rough), len(z_rough), len(t_rough)\n",
    "    I, J, K = len(a_fine), len(z_fine), len(t_fine)\n",
    "\n",
    "    s_rough_reshape = s_rough.reshape([N, M, L])\n",
    "    s_fine1 = np.zeros([I, M, L])\n",
    "    s_fine2 = np.zeros([I, J, L])\n",
    "    s_fine3 = np.zeros([I, J, K])\n",
    "\n",
    "    for m, z in enumerate(z_rough):\n",
    "        for l, t in enumerate(t_rough):\n",
    "            s_fine1[:,m,l] = sp.interpolate.InterpolatedUnivariateSpline(a_rough, s_rough_reshape[:,m,l])(a_fine)\n",
    "\n",
    "    for i, a in enumerate(a_fine):\n",
    "        for l, t in enumerate(t_rough):\n",
    "            s_fine2[i,:,l] = sp.interpolate.InterpolatedUnivariateSpline(z_rough, s_fine1[i,:,l])(z_fine)\n",
    "\n",
    "    for i, a in enumerate(a_fine):\n",
    "        for j, z in enumerate(z_fine):\n",
    "            s_fine3[i,j,:] = sp.interpolate.InterpolatedUnivariateSpline(t_rough, s_fine2[i,j,:])(t_fine)\n",
    "\n",
    "    return s_fine3.flatten()"
   ]
  },
  {
   "cell_type": "code",
   "execution_count": 3,
   "id": "dbacab18-eee0-4f10-9f06-0efcf93a1493",
   "metadata": {},
   "outputs": [],
   "source": [
    "def timespline(t_rough, a_rough, z_rough, s_rough, t_fine, a_fine, z_fine):\n",
    "    O, N, M =  len(t_rough), len(a_rough), len(z_rough)\n",
    "    K, I, J = len(t_fine), len(a_fine), len(z_fine)\n",
    "\n",
    "    s_rough_reshape = s_rough.reshape([O, N, M])\n",
    "    s_fine_rough = np.zeros([K, N, M])\n",
    "    s_fine_fine = np.zeros([K, I, J])\n",
    "\n",
    "    for n, a in enumerate(a_rough):\n",
    "        for m, z in enumerate(z_rough):\n",
    "            s_fine_rough[:,n,m] = sp.interpolate.InterpolatedUnivariateSpline(t_rough, s_rough_reshape[:,n,m])(t_fine)\n",
    "\n",
    "    for o, t in enumerate(t_fine):\n",
    "        s_fine_fine[o] = sp.interpolate.RectBivariateSpline(a_rough, z_rough, s_fine_rough[o])(a_fine, z_fine)\n",
    "\n",
    "    return s_fine_fine.flatten()"
   ]
  },
  {
   "cell_type": "markdown",
   "id": "4f3cf0bf-f5b9-4d24-9bf3-45b6e7ea2a86",
   "metadata": {},
   "source": [
    "## Miscellaneous"
   ]
  },
  {
   "cell_type": "code",
   "execution_count": 14,
   "id": "0b8fd95f",
   "metadata": {},
   "outputs": [],
   "source": [
    "def backend_test_function():\n",
    "    print('Backend import successful! -', datetime.now())"
   ]
  }
 ],
 "metadata": {
  "interpreter": {
   "hash": "5c5ea52a0a29754ec27a885fecf4fa804e6dfbe67c549b23eb925e484a95483d"
  },
  "kernelspec": {
   "display_name": "Python 3 (ipykernel)",
   "language": "python",
   "name": "python3"
  },
  "language_info": {
   "codemirror_mode": {
    "name": "ipython",
    "version": 3
   },
   "file_extension": ".py",
   "mimetype": "text/x-python",
   "name": "python",
   "nbconvert_exporter": "python",
   "pygments_lexer": "ipython3",
   "version": "3.9.12"
  }
 },
 "nbformat": 4,
 "nbformat_minor": 5
}
