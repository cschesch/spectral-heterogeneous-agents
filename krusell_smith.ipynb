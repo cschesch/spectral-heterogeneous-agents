{
 "cells": [
  {
   "cell_type": "markdown",
   "id": "e8aa94b6-6a26-4ff0-90a6-639334802ad5",
   "metadata": {},
   "source": [
    "# Spectral method for a  Krusell-Smith model with two incomes"
   ]
  },
  {
   "cell_type": "code",
   "execution_count": 1,
   "id": "85d55e08-a81d-4846-ae32-bbbc7fdd8878",
   "metadata": {},
   "outputs": [
    {
     "name": "stdout",
     "output_type": "stream",
     "text": [
      "Backend import successful! - 2023-12-18 21:49:12.559299\n"
     ]
    }
   ],
   "source": [
    "%run 'backend.ipynb'\n",
    "backend_test_function()"
   ]
  },
  {
   "cell_type": "code",
   "execution_count": 2,
   "id": "da8a518f-78e1-466c-9aa1-37e1d1b440ad",
   "metadata": {},
   "outputs": [],
   "source": [
    "import jax\n",
    "import jax.numpy as jnp\n",
    "from jax import config\n",
    "config.update('jax_enable_x64', True)\n",
    "\n",
    "from dmsuite.poly_diff import Chebyshev, Lagrange, DiffMatOnDomain"
   ]
  },
  {
   "cell_type": "markdown",
   "id": "2e7e097f-1d64-4294-88bb-e500135b8ae9",
   "metadata": {},
   "source": [
    "# Parameters"
   ]
  },
  {
   "cell_type": "markdown",
   "id": "1534aef2-9c17-4b01-a148-d1b5d74df8b9",
   "metadata": {},
   "source": [
    "## Economic parameters"
   ]
  },
  {
   "cell_type": "code",
   "execution_count": 3,
   "id": "40b40790-fd1d-4fde-bb2d-2fcc67a99f4d",
   "metadata": {},
   "outputs": [],
   "source": [
    "# Preferences\n",
    "gamma = 2. # Coefficient of relative risk aversion\n",
    "rho = 0.01 # Rate of time preference\n",
    "\n",
    "# Production\n",
    "delta = .025 # Capital depreciation\n",
    "alpha = 1 / 3 # Capital share\n",
    "\n",
    "# Aggregate shock\n",
    "sigmaTFP = .007 # Standard deviation of TFP shock\n",
    "rhoTFP = .95 # Quarterly autocorrelation of TFP shock\n",
    "Z = 0. # Steady-state TFP level\n",
    "\n",
    "# Idiosyncratic shocks\n",
    "z1 = 0. # Unemployed\n",
    "z2 = 1. # Employed\n",
    "z = np.array([z1, z2])\n",
    "\n",
    "# Transition probabilities\n",
    "lambda1 = 1 / 2 # Expected duration of unemployment is 2 quarters\n",
    "lambda2 = (lambda1 / (z2 * .93 - z1))*(z2 - z2 * .93) # Unemployment rate is 7%\n",
    "G = np.array([[-lambda1, lambda1], [lambda2, -lambda2]]) # Generator / transition rate matrix\n",
    "\n",
    "# Tax system\n",
    "mu = .15 # UI replacement rate is 15%\n",
    "tau = (mu / z2) * (lambda2 / lambda1) # Labor income tax\n",
    "\n",
    "# Labor supply\n",
    "zAvg = (lambda1 * z2 + lambda2 * z1) / (lambda1 + lambda2)\n",
    "assert zAvg == .93\n",
    "\n",
    "# Assets\n",
    "amin = 0. # Lower asset constraint\n",
    "amax = 100. # Upper asset constraint"
   ]
  },
  {
   "cell_type": "code",
   "execution_count": 4,
   "id": "8b18fb81-e428-4833-8354-092327fede8b",
   "metadata": {},
   "outputs": [],
   "source": [
    "def u_func(x): return x**(1-gamma) / (1-gamma) # Utility function\n",
    "def du_func(x): return x**(-gamma) # Marginal utility\n",
    "def du_inv(x): return x**(-1/gamma) # Inverse marginal utility"
   ]
  },
  {
   "cell_type": "markdown",
   "id": "989c2df2-c3c4-4d1f-82de-e4f4e79b25c6",
   "metadata": {},
   "source": [
    "## Simulation parameters"
   ]
  },
  {
   "cell_type": "code",
   "execution_count": 5,
   "id": "eeb266d1-d7b9-4021-b2ca-bc0a7569f817",
   "metadata": {},
   "outputs": [
    {
     "name": "stdout",
     "output_type": "stream",
     "text": [
      "tstart: 0.0 tend: 200.0 T: 2001 dt: 0.1\n"
     ]
    }
   ],
   "source": [
    "tstart = 0. # Start of simulation\n",
    "tend = 200. # End of simulation\n",
    "T = 2000+1 # Number of periods\n",
    "\n",
    "ts = np.linspace(tstart, tend, T) # Periods\n",
    "dt = ts[1]-ts[0] # Difference between periods\n",
    "print('tstart:', tstart, 'tend:', tend, 'T:', T, 'dt:', dt)"
   ]
  },
  {
   "cell_type": "markdown",
   "id": "a76a1000-1ca9-45a7-a04e-6b391c5661aa",
   "metadata": {},
   "source": [
    "## Numerical parameters"
   ]
  },
  {
   "cell_type": "code",
   "execution_count": 6,
   "id": "066da91d-68ee-46ab-a187-d49446802447",
   "metadata": {},
   "outputs": [],
   "source": [
    "# Number of asset points\n",
    "N = 30\n",
    "\n",
    "# Value function iteration\n",
    "maxiter_hjb = 100 # Maximum iterations on steady state HJB\n",
    "crit_hjb = 1e-6 # Error criterion for steady state value function convergence\n",
    "Delta = 1e4 # Update size for implicit scheme on steady state HJB\n",
    "\n",
    "# Interest rate\n",
    "rmin = .0001 # Lower bound for steady state interest rate\n",
    "rmax = rho # Upper bound for steady state interest rate\n",
    "r0 = (rmin+rmax)/2 # Initial guess for steady state interest rate\n",
    "maxiter_r = 100 # Maximum iterations on steady state interest rate\n",
    "crit_S = 1e-5 # Error criterion for steady state interest rate"
   ]
  },
  {
   "cell_type": "code",
   "execution_count": 7,
   "id": "03066cef-8ad3-45e3-8162-6c00d4a3b18f",
   "metadata": {},
   "outputs": [],
   "source": [
    "def compute_interpolation_matrix(chebyshev_nodes, target_nodes):\n",
    "    \"\"\"Computes Chebyshev interpolation matrix, adapted from DmSuite's source code\"\"\"\n",
    "\n",
    "    interpolation_weights = (-1.0) ** np.arange(N)\n",
    "    interpolation_weights[0] /= 2\n",
    "    interpolation_weights[-1] /= 2\n",
    "\n",
    "    interpolation_matrix = np.tile(target_nodes, (N, 1)).T - np.tile(chebyshev_nodes, (N, 1))\n",
    "    interpolation_matrix = 1 / (interpolation_matrix + np.where(interpolation_matrix == 0, np.finfo(float).eps, 0))\n",
    "    interpolation_matrix = np.diag(1 / (interpolation_matrix @ interpolation_weights)) @ interpolation_matrix @ np.diag(interpolation_weights)\n",
    "    \n",
    "    return interpolation_matrix\n",
    "\n",
    "def compute_expectation(g, f, integrator):\n",
    "    \"\"\"Computes expectation of function f against distribution g using mixed spectral / finite volume scheme\"\"\"\n",
    "    ggf = g[:N] * f[:N] + g[N:] * f[N:]\n",
    "    dirac_expectation = (ggf[0]+ggf[-1])*da\n",
    "    density_expectation = integrator @ ggf[1:-1]\n",
    "    return dirac_expectation + density_expectation"
   ]
  },
  {
   "cell_type": "markdown",
   "id": "4a923bc1-0f4e-4654-8f06-5150348e8d59",
   "metadata": {},
   "source": [
    "# Solve for steady-state"
   ]
  },
  {
   "cell_type": "code",
   "execution_count": 8,
   "id": "96db0b3a-ef01-4220-95a0-1b150d4aa744",
   "metadata": {},
   "outputs": [
    {
     "name": "stdout",
     "output_type": "stream",
     "text": [
      "Converged! Iterations: 9 r: 0.009672929037289023\n"
     ]
    }
   ],
   "source": [
    "# Chebyshev nodes & differentiation matrix on [amin, amax]\n",
    "chebyshev = DiffMatOnDomain(xmin=amin, xmax=amax, dmat=Chebyshev(degree=N-1))\n",
    "a = chebyshev.nodes\n",
    "Da = chebyshev.at_order(1)\n",
    "\n",
    "# Size of finite volume cell at boundary constraint, could be anything but we pick a[1]-a[0]\n",
    "da = a[1]-a[0]\n",
    "\n",
    "# Repeated asset and tiled income arrays\n",
    "aa = np.tile(a, 2)\n",
    "zz = np.repeat(z, N)\n",
    "\n",
    "# Differentiation matrix w.r.t. a\n",
    "D_a = np.kron(np.eye(2), Da)\n",
    "\n",
    "# Switching matrix\n",
    "GG = np.kron(G,np.eye(N))\n",
    "\n",
    "# Initialize\n",
    "rmin = .0001 # Lower bound for steady state interest rate\n",
    "rmax = rho # Upper bound for steady state interest rate\n",
    "\n",
    "r = r0 # Initial guess for interest rate\n",
    "KD = (((alpha) / (r + delta)) ** (1 / (1 - alpha))) * zAvg # Initial guess for capital demand\n",
    "w = (1 - alpha) * KD**alpha * zAvg**-alpha # Initial guess for wages\n",
    "v = u_func(w*((1-tau)*zz+mu*(1-zz)) + r*aa)/rho # Initial guess for v\n",
    "\n",
    "Smin, Smax = np.nan, np.nan # Initialize excess savings\n",
    "\n",
    "for i_r in range(maxiter_r):\n",
    "    \n",
    "    KD = (((alpha) / (r + delta)) ** (1 / (1 - alpha))) * zAvg # Capital demand\n",
    "    w = (1 - alpha) * KD**alpha * zAvg**-alpha # Wages\n",
    "    \n",
    "    # Solve HJB via iterative algorithm\n",
    "\n",
    "    for i_hjb in range(maxiter_hjb):\n",
    "\n",
    "        Delta = 0.01*np.exp(i_hjb)+1000*(i_r>0)\n",
    "\n",
    "        dv = D_a@v\n",
    "        c = du_inv(dv)\n",
    "        s = w*((1-tau)*zz+mu*(1-zz)) + r*aa - c\n",
    "        \n",
    "        A = s.reshape(-1,1)*D_a + GG\n",
    "        B = (1/Delta + rho)*np.eye(2*N) - A\n",
    "        b = u_func(c) + v/Delta\n",
    "\n",
    "        # Enforce lower asset constraint\n",
    "        B[0] = D_a[0]\n",
    "        b[0] = du_func(w*((1-tau)*zz[0]+mu*(1-zz[0])) + r*aa[0])\n",
    "\n",
    "        # Enforce upper asset constraint if it binds\n",
    "        if s[-1] >= 0:\n",
    "            B[-1] = D_a[-1]\n",
    "            b[-1] = du_func(w*((1-tau)*zz[-1]+mu*(1-zz[-1])) + r*aa[-1])\n",
    "            \n",
    "        v_old = v.copy()\n",
    "        v = np.linalg.solve(B,b)\n",
    "        \n",
    "        if np.max(np.abs(v_old-v)) < crit_hjb: break\n",
    "\n",
    "    # Solve KFE via spectral method with finite volume boundary cells\n",
    "    \n",
    "    try:\n",
    "        amax2 = a[np.where(s[N:]>=0)[0][-1]+1] # Effective upper asset boundary where high-income savings turn negative\n",
    "    except:\n",
    "        amax2 = amax\n",
    "    \n",
    "    chebyshev_interior = DiffMatOnDomain(xmin=amin+da, xmax=amax2-da, dmat=Chebyshev(degree=N-1-2)) # Chebyshev nodes & differentiation matrix on [amin+da, amax-da]\n",
    "    Da2_interior = chebyshev_interior.at_order(1)\n",
    "    \n",
    "    Da2_interior_pinv = np.linalg.pinv(Da2_interior) # Antiderivative matrix\n",
    "    integrator = Da2_interior_pinv[-1] - Da2_interior_pinv[0] # Integral between boundaries amin+da, xmax=amax2-da\n",
    "\n",
    "    a2 = np.hstack([amin, chebyshev_interior.nodes, amax2])\n",
    "    aa2 = np.tile(a2, 2)\n",
    "\n",
    "    Da2 = np.zeros((N,N))\n",
    "    Da2[1:-1,1:-1] = Da2_interior\n",
    "    D_a2 = np.kron(np.eye(2), Da2)\n",
    "    \n",
    "    interpolation_matrix = compute_interpolation_matrix(a, a2)\n",
    "\n",
    "    s2 = np.hstack([interpolation_matrix @ s[:N], interpolation_matrix @ s[N:]])\n",
    "    \n",
    "    C = -D_a2*s2 + GG.T\n",
    "\n",
    "    C[0,0], C[0,1], C[0,N] = -lambda1, -s[1]/da, lambda2 # Net flows for low-income @ bottom constraint\n",
    "    C[N,0], C[N,N] = lambda1, -lambda2-s[N]/da # Net flows for high-income @ bottom constraint\n",
    "    C[N+1,:], C[N+1,N], C[N+1,N+1], C[N+1,1] = 0, s[N]/da, -lambda2-s[N+1]/da, lambda1 # Net flows for high-income just above bottom constraint\n",
    "    \n",
    "    C[-1,-1], C[-1,-2], C[-1,-(N+1)] = -lambda2+s[-1]/da, s[-2]/da, lambda1 # Net flows for high-income @ top constraint\n",
    "    C[-(N+1),-1], C[-(N+1),-(N+1)] = lambda2, -lambda1+s[-(N+1)]/da # Net flows for low-income @ top constraint\n",
    "    C[-(N+2),:], C[-(N+2),-(N+1)], C[-(N+2),-(N+2)], C[-(N+2),-2] = 0, -s[-(N+1)]/da, -lambda1+s[-(N+2)]/da, lambda2 # Net flows for low-income just below top constraint\n",
    "    \n",
    "    # Compute & normalize zero eigenvector\n",
    "    l, g = sparse.linalg.eigs(C, sigma=0, k=1)\n",
    "    g = np.real_if_close(g).flatten()\n",
    "    g /= compute_expectation(g, np.ones_like(g), integrator)\n",
    "    \n",
    "    # Compute capital\n",
    "    KS = compute_expectation(g, aa2, integrator)\n",
    "    S = KS-KD\n",
    "    \n",
    "    if S>crit_S:\n",
    "        rmax, Smax = r, S\n",
    "    elif S<-crit_S:\n",
    "        rmin, Smin = r, S\n",
    "    else:\n",
    "        break\n",
    "    \n",
    "    if np.isnan(Smin) or np.isnan(Smax):\n",
    "        r = (rmin+rmax)/2 # Dichotomy\n",
    "    else:\n",
    "        r = (Smax * rmin - Smin * rmax) / (Smax - Smin) # Secant\n",
    "\n",
    "K = KS # Steady-state capital, exactly consistent with g\n",
    "r = alpha * K**(alpha-1) * zAvg**(1-alpha) - delta # Steady-state interest rate\n",
    "w = (1 - alpha) * KS**alpha * zAvg**-alpha # Steady-state wages\n",
    "print('Converged! Iterations:', i_r, 'r:', r)"
   ]
  },
  {
   "cell_type": "markdown",
   "id": "7f1e39a3-27e4-4d48-990c-3ff9cf5c4b71",
   "metadata": {},
   "source": [
    "### Compute derivatives"
   ]
  },
  {
   "cell_type": "code",
   "execution_count": 9,
   "id": "7c10f520-8d60-4700-bb91-d1b2b362260d",
   "metadata": {},
   "outputs": [],
   "source": [
    "# Truncate distribution (because g integrates to 1)\n",
    "\n",
    "gtrunc = g[:-1]\n",
    "\n",
    "def complete_gtrunc(gtrunc):\n",
    "    g = jnp.hstack([gtrunc, 0.])\n",
    "    g_mass = compute_expectation(g, jnp.ones_like(g), integrator)\n",
    "    g = g.at[-1].set((1 - g_mass)/da)\n",
    "    return g\n",
    "\n",
    "assert np.allclose(complete_gtrunc(gtrunc), g)"
   ]
  },
  {
   "cell_type": "code",
   "execution_count": 10,
   "id": "20d60453-63a2-40f4-bf06-0faba139f58e",
   "metadata": {},
   "outputs": [],
   "source": [
    "X_steadystate = np.hstack([v, gtrunc, Z])"
   ]
  },
  {
   "cell_type": "code",
   "execution_count": 11,
   "id": "f43e1ec2-8819-42ae-890e-12693c568564",
   "metadata": {},
   "outputs": [],
   "source": [
    "def compute_dXt(X):\n",
    "    \n",
    "    # Unpack vector X\n",
    "    v = X[:2*N]\n",
    "    gtrunc = X[2*N:4*N-1]\n",
    "    Z = X[-1]\n",
    "    \n",
    "    # Complete distribution\n",
    "    g = complete_gtrunc(gtrunc)\n",
    "    \n",
    "    # Compute macro aggregates\n",
    "    K = compute_expectation(g, aa2, integrator)\n",
    "    r = jnp.exp(Z) * alpha * K**(alpha-1) * zAvg**(1-alpha) - delta\n",
    "    w = jnp.exp(Z) * (1 - alpha) * KS**alpha * zAvg**-alpha\n",
    "    \n",
    "    # Compute decision rules \n",
    "    dv = D_a@v\n",
    "    c = du_inv(dv)    \n",
    "    s = w*((1-tau)*zz+mu*(1-zz)) + r*aa - c\n",
    "    \n",
    "    # Evolution of value function\n",
    "    \n",
    "    A = s.reshape(-1,1)*D_a + GG\n",
    "    dvt = u_func(c) + A @ v - rho*v\n",
    "    \n",
    "    # Evolution of distribution\n",
    "\n",
    "    s2 = jnp.hstack([interpolation_matrix @ s[:N], interpolation_matrix @ s[N:]])\n",
    "        \n",
    "    C = -D_a2*s2 + GG.T\n",
    "        \n",
    "    C = C.at[0, 1].add(-s[1] / da)\n",
    "    \n",
    "    C = C.at[N, N].add(- s[N] / da)\n",
    "    \n",
    "    C = C.at[N + 1, :].set(0)\n",
    "    C = C.at[N + 1, N].set(s[N] / da)\n",
    "    C = C.at[N + 1, N + 1].set(-lambda2-s[N+1] / da)\n",
    "    C = C.at[N + 1, 1].set(lambda1)\n",
    "\n",
    "    C = C.at[-1, -1].add(s[-1] / da)\n",
    "    C = C.at[-1, -2].add(s[-2] / da)\n",
    "\n",
    "    C = C.at[-(N + 1), -(N + 1)].add(s[-(N + 1)] / da)\n",
    "\n",
    "    C = C.at[-(N + 2), :].set(0)\n",
    "    C = C.at[-(N + 2), -(N + 1)].set(-s[-(N + 1)] / da)\n",
    "    C = C.at[-(N + 2), -(N + 2)].set(-lambda1+s[-(N + 2)] / da)\n",
    "    C = C.at[-(N + 2), -2].set(lambda2)\n",
    "    \n",
    "    dgt = (C @ g)[:-1]\n",
    "\n",
    "    # Evolution of TFP\n",
    "    \n",
    "    dZt = -(1-rhoTFP)*Z\n",
    "        \n",
    "    return jnp.hstack([-dvt, dgt, dZt])\n",
    "\n",
    "M = jax.jacfwd(compute_dXt)(X_steadystate)"
   ]
  },
  {
   "cell_type": "code",
   "execution_count": 12,
   "id": "1b87021b-c868-474c-a8cf-31b1a33b8819",
   "metadata": {},
   "outputs": [],
   "source": [
    "def compute_KYCI(X):\n",
    "    \n",
    "    # Unpack vector X\n",
    "    v = X[:2*N]\n",
    "    gtrunc = X[2*N:4*N-1]\n",
    "    Z = X[-1]\n",
    "    \n",
    "    # Complete distribution\n",
    "    g = complete_gtrunc(gtrunc)\n",
    "    \n",
    "    # Compute capital\n",
    "    K = compute_expectation(g, aa2, integrator)\n",
    "    \n",
    "    # Compute output\n",
    "    Y = jnp.exp(Z) * (K ** alpha) * (zAvg ** (1 - alpha))\n",
    "\n",
    "    # Compute prices\n",
    "    r = jnp.exp(Z) * alpha * K**(alpha-1) * zAvg**(1-alpha) - delta\n",
    "    w = jnp.exp(Z) * (1 - alpha) * KS**alpha * zAvg**-alpha\n",
    "    \n",
    "    # Compute decision rules \n",
    "    dv = D_a@v\n",
    "    c = du_inv(dv)\n",
    "    s = w*((1-tau)*zz+mu*(1-zz)) + r*aa - c\n",
    "    \n",
    "    # Compute consumption\n",
    "    c2 = jnp.hstack([interpolation_matrix @ c[:N], interpolation_matrix @ c[N:]])\n",
    "    C = compute_expectation(g, c2, integrator)\n",
    "    \n",
    "    # Compute investment\n",
    "    s2 = jnp.hstack([interpolation_matrix @ s[:N], interpolation_matrix @ s[N:]])\n",
    "    I = compute_expectation(g, s2, integrator) + delta*K\n",
    "    \n",
    "    return jnp.hstack([K, Y, C, I])\n",
    "\n",
    "M_KYCI = jax.jacfwd(compute_KYCI)(X_steadystate)\n",
    "extend_state = np.vstack([np.eye(4*N), M_KYCI])"
   ]
  },
  {
   "cell_type": "markdown",
   "id": "d9b06c9e-ac72-43df-bcb8-fc8911ea343f",
   "metadata": {},
   "source": [
    "# Compute IRFs"
   ]
  },
  {
   "cell_type": "code",
   "execution_count": 13,
   "id": "b402a543-8e5d-497f-8534-4750223bf94a",
   "metadata": {},
   "outputs": [],
   "source": [
    "# Shocks for an IRF\n",
    "shocks = np.zeros(T)\n",
    "shocks[0] = sigmaTFP / dt**0.5\n",
    "\n",
    "# Impact of shocks\n",
    "psi = np.zeros(4*N)\n",
    "psi[-1] = 1."
   ]
  },
  {
   "cell_type": "code",
   "execution_count": 14,
   "id": "c74a7e8d-4cc2-4809-983a-011f8b416d7e",
   "metadata": {},
   "outputs": [
    {
     "name": "stdout",
     "output_type": "stream",
     "text": [
      "n_state_vars: 60\n",
      "nstab: 60\n",
      "existence: True\n",
      "uniqueness: True\n"
     ]
    }
   ],
   "source": [
    "def schur_solver(M, psi, n_state_vars, strict=True, verbose=True):\n",
    "            \n",
    "    T, U, nstab = sp.linalg.schur(M, output='real', sort='lhp')\n",
    "    \n",
    "    M_stab = U @ T @ np.diag(np.concatenate([np.ones(nstab), np.zeros(len(M)-nstab)])) @ U.T\n",
    "    \n",
    "    F = U[:-nstab, :nstab] @ np.linalg.inv(U[-nstab:, :nstab])\n",
    "    \n",
    "    psi_stab = np.hstack((F @ psi[-nstab:], psi[-nstab:]))\n",
    "    \n",
    "    existence = (nstab >= n_state_vars)\n",
    "    uniqueness = (nstab == n_state_vars)\n",
    "    \n",
    "    if verbose:\n",
    "        print('n_state_vars:', n_state_vars)\n",
    "        print('nstab:', nstab)\n",
    "        print('existence:', existence)\n",
    "        print('uniqueness:', existence)\n",
    "    \n",
    "    if strict:\n",
    "        assert existence, \"Solution does not exist.\"\n",
    "        assert uniqueness, \"Solution it not unique.\"\n",
    "    \n",
    "    return M_stab, psi_stab, F, existence, uniqueness\n",
    "\n",
    "M_stab, psi_stab, F, existence, uniqueness = schur_solver(M, psi, n_state_vars=2*N)"
   ]
  },
  {
   "cell_type": "code",
   "execution_count": 15,
   "id": "6ae20d17-5163-4802-9798-51555c0cb002",
   "metadata": {},
   "outputs": [
    {
     "data": {
      "application/vnd.jupyter.widget-view+json": {
       "model_id": "00950517ab99401fb907bc3dfe48d67d",
       "version_major": 2,
       "version_minor": 0
      },
      "text/plain": [
       "  0%|          | 0/2000 [00:00<?, ?it/s]"
      ]
     },
     "metadata": {},
     "output_type": "display_data"
    }
   ],
   "source": [
    "impulse_response = np.zeros((4*N, T))\n",
    "\n",
    "implicit_update = np.linalg.inv(np.eye(4*N) - dt * M_stab)\n",
    "\n",
    "for i in trange(T-1):\n",
    "    impulse_response[:, i+1] = implicit_update @ (impulse_response[:, i] + dt**0.5 * psi_stab * shocks[i])\n",
    "\n",
    "impulse_response_extended = extend_state @ impulse_response"
   ]
  },
  {
   "cell_type": "markdown",
   "id": "588a8ac9-d50e-49db-a865-fc476d4d85fc",
   "metadata": {},
   "source": [
    "# Plot IRFs"
   ]
  },
  {
   "cell_type": "code",
   "execution_count": 16,
   "id": "15cf2d10-4b4e-4770-bb93-21282cb4dec0",
   "metadata": {},
   "outputs": [
    {
     "data": {
      "image/png": "[encoded data removed]",
      "text/plain": [
       "<Figure size 864x216 with 4 Axes>"
      ]
     },
     "metadata": {
      "image/png": {
       "height": 215,
       "width": 856
      },
      "needs_background": "light"
     },
     "output_type": "display_data"
    },
    {
     "name": "stdout",
     "output_type": "stream",
     "text": [
      "Saved to: krusell_smith_irf.pdf\n"
     ]
    }
   ],
   "source": [
    "fig, ax = plt.subplots(1, 4, figsize=(12, 3), tight_layout=True)\n",
    "ax = ax.flatten()\n",
    "\n",
    "ax[0].plot(ts[1:], impulse_response_extended[4*N-1+0, 1:], 'C0')\n",
    "#ax[0].plot(ts[1:], dt**0.5 * sigmaTFP * np.exp(-(1-rhoTFP)*ts[1:]), ls='--')\n",
    "ax[0].set_title('TFP')\n",
    "                  \n",
    "ax[1].plot(ts[1:], impulse_response_extended[4*N-1+2, 1:], 'C1')\n",
    "ax[1].set_title('Output')\n",
    "\n",
    "ax[2].plot(ts[1:], impulse_response_extended[4*N-1+3, 1:], 'C2')\n",
    "ax[2].set_title('Consumption')\n",
    "\n",
    "ax[3].plot(ts[1:], impulse_response_extended[4*N-1+4, 1:], 'C3')\n",
    "ax[3].set_title('Investment')\n",
    "\n",
    "plt.suptitle('Linearized Spectral Solution to Krusell-Smith Model - Impulse Response Functions')\n",
    "savefig(fig, 'krusell_smith_irf')"
   ]
  },
  {
   "cell_type": "markdown",
   "id": "741d4e8a-a60b-4d5a-912b-3c43ec3178b4",
   "metadata": {},
   "source": [
    "# Comparison with non-linear solution"
   ]
  },
  {
   "cell_type": "code",
   "execution_count": 17,
   "id": "a136c5c5-61d4-498c-8b5d-a325358b4eeb",
   "metadata": {},
   "outputs": [
    {
     "name": "stdout",
     "output_type": "stream",
     "text": [
      "tstart: 0.0 tend_sim: 10000.0 T: 2001 dt: 0.1\n"
     ]
    }
   ],
   "source": [
    "tend_sim = 10000. # End of simulation\n",
    "T_sim = 2000+1 # Number of periods\n",
    "\n",
    "ts_sim = np.linspace(tstart, tend, T) # Periods\n",
    "dt_sim = ts_sim[1]-ts_sim[0] # Difference between periods\n",
    "print('tstart:', tstart, 'tend_sim:', tend_sim, 'T:', T_sim, 'dt:', dt_sim)"
   ]
  },
  {
   "cell_type": "code",
   "execution_count": 18,
   "id": "2c00ec9f-f55d-4e4c-beac-a60dc5f08f82",
   "metadata": {},
   "outputs": [],
   "source": [
    "# Pre-compile derivative matrix function\n",
    "compute_M = jax.jit(jax.jacfwd(compute_dXt))\n",
    "\n",
    "# Pre-compile non-linear capital function\n",
    "@jax.jit\n",
    "def compute_K(X):\n",
    "    return compute_expectation(complete_gtrunc(X[2*N:4*N-1]), aa2, integrator)\n",
    "\n",
    "# Draw shocks\n",
    "np.random.seed(0)\n",
    "shocks = np.random.normal(size=T_sim)\n",
    "\n",
    "# List shock sizes and initialize errors\n",
    "shock_std_devs = [0.0001, 0.001, 0.007, 0.01]\n",
    "den_haan_errors = pd.Series(index=shock_std_devs)"
   ]
  },
  {
   "cell_type": "code",
   "execution_count": 19,
   "id": "73a262db-2ab0-42c0-bb43-2ec27856be26",
   "metadata": {},
   "outputs": [
    {
     "data": {
      "application/vnd.jupyter.widget-view+json": {
       "model_id": "cca3ddd0528e42d2a57e88ffb41bfbeb",
       "version_major": 2,
       "version_minor": 0
      },
      "text/plain": [
       "  0%|          | 0/4 [00:00<?, ?it/s]"
      ]
     },
     "metadata": {},
     "output_type": "display_data"
    },
    {
     "data": {
      "application/vnd.jupyter.widget-view+json": {
       "model_id": "e0dbf67d52d54c41b1cff9a47b06f339",
       "version_major": 2,
       "version_minor": 0
      },
      "text/plain": [
       "  0%|          | 0/2000 [00:00<?, ?it/s]"
      ]
     },
     "metadata": {},
     "output_type": "display_data"
    },
    {
     "data": {
      "application/vnd.jupyter.widget-view+json": {
       "model_id": "934a46bd0cbc48fd9f4a3d9686fe3ff0",
       "version_major": 2,
       "version_minor": 0
      },
      "text/plain": [
       "  0%|          | 0/2001 [00:00<?, ?it/s]"
      ]
     },
     "metadata": {},
     "output_type": "display_data"
    },
    {
     "data": {
      "application/vnd.jupyter.widget-view+json": {
       "model_id": "ca67d64b6b984b2a82d286cb899e7210",
       "version_major": 2,
       "version_minor": 0
      },
      "text/plain": [
       "  0%|          | 0/2000 [00:00<?, ?it/s]"
      ]
     },
     "metadata": {},
     "output_type": "display_data"
    },
    {
     "data": {
      "application/vnd.jupyter.widget-view+json": {
       "model_id": "7e7668b2bb8c46388402aa17c10a6308",
       "version_major": 2,
       "version_minor": 0
      },
      "text/plain": [
       "  0%|          | 0/2001 [00:00<?, ?it/s]"
      ]
     },
     "metadata": {},
     "output_type": "display_data"
    },
    {
     "data": {
      "application/vnd.jupyter.widget-view+json": {
       "model_id": "36dbffd836704ae695a2129a0d5cbed2",
       "version_major": 2,
       "version_minor": 0
      },
      "text/plain": [
       "  0%|          | 0/2000 [00:00<?, ?it/s]"
      ]
     },
     "metadata": {},
     "output_type": "display_data"
    },
    {
     "data": {
      "application/vnd.jupyter.widget-view+json": {
       "model_id": "43d3c8960fce4b1b84f6c45aa70c2fa0",
       "version_major": 2,
       "version_minor": 0
      },
      "text/plain": [
       "  0%|          | 0/2001 [00:00<?, ?it/s]"
      ]
     },
     "metadata": {},
     "output_type": "display_data"
    },
    {
     "data": {
      "application/vnd.jupyter.widget-view+json": {
       "model_id": "f21361341e15487499050dfd635cdc08",
       "version_major": 2,
       "version_minor": 0
      },
      "text/plain": [
       "  0%|          | 0/2000 [00:00<?, ?it/s]"
      ]
     },
     "metadata": {},
     "output_type": "display_data"
    },
    {
     "data": {
      "application/vnd.jupyter.widget-view+json": {
       "model_id": "d6bb4a0465a642119156e5c13d7be3c6",
       "version_major": 2,
       "version_minor": 0
      },
      "text/plain": [
       "  0%|          | 0/2001 [00:00<?, ?it/s]"
      ]
     },
     "metadata": {},
     "output_type": "display_data"
    }
   ],
   "source": [
    "for shock_std_dev in tqdm(shock_std_devs):\n",
    "    \n",
    "    simulation_linear = np.zeros((4*N, T_sim))\n",
    "    simulation_nonlinear = np.zeros((4*N, T_sim))\n",
    "\n",
    "    linear_implicit_update = np.linalg.inv(np.eye(4*N) - dt_sim * M_stab)\n",
    "\n",
    "    for i in trange(T_sim-1):\n",
    "        \n",
    "        # Linear simulation\n",
    "        simulation_linear[:, i+1] = linear_implicit_update @ (simulation_linear[:, i] + dt_sim**0.5 * psi_stab * shock_std_dev * shocks[i])\n",
    "\n",
    "        # Non-linear simulation (linearized decision rules, non-linearly simulated distribution g)    \n",
    "        simulation_nonlinear[:2*N, i+1] = simulation_linear[:2*N, i+1].copy()\n",
    "\n",
    "        M_nonlinear = compute_M(X_steadystate+simulation_nonlinear[:, i])\n",
    "        B_gZ_v = M_nonlinear[2*N:,:2*N]\n",
    "        B_gZ_gZ = M_nonlinear[2*N:,2*N:]\n",
    "\n",
    "        nonlinear_implicit_update = np.linalg.inv(np.eye(2*N) - dt_sim * (B_gZ_gZ + B_gZ_v@F)) # Use F from linearized solution\n",
    "        \n",
    "        simulation_nonlinear[2*N:, i+1] = nonlinear_implicit_update @ (simulation_nonlinear[2*N:, i] + dt_sim**0.5 * psi[2*N:] * shock_std_dev * shocks[i])\n",
    "\n",
    "    K_linear = K + (extend_state[4*N-1+1] @ simulation_linear)\n",
    "    K_nonlinear = np.array([compute_K(X_steadystate+simulation_nonlinear[:, i]) for i in trange(T_sim)])\n",
    "    \n",
    "    den_haan_errors.loc[shock_std_dev] = np.max(np.abs(np.log(K_linear)-np.log(K_nonlinear)))"
   ]
  },
  {
   "cell_type": "code",
   "execution_count": 20,
   "id": "7bfeb100-1688-404e-976f-08f70a9bd73b",
   "metadata": {},
   "outputs": [
    {
     "data": {
      "text/html": [
       "<table border=\"1\" class=\"dataframe\">\n",
       "  <thead>\n",
       "    <tr style=\"text-align: right;\">\n",
       "      <th></th>\n",
       "      <th>Std. Dev. of TFP Shocks (\\%)</th>\n",
       "      <th>Maximum Den Haan Error (\\%)</th>\n",
       "    </tr>\n",
       "  </thead>\n",
       "  <tbody>\n",
       "    <tr>\n",
       "      <th>0</th>\n",
       "      <td>0.01</td>\n",
       "      <td>0.000</td>\n",
       "    </tr>\n",
       "    <tr>\n",
       "      <th>1</th>\n",
       "      <td>0.10</td>\n",
       "      <td>0.006</td>\n",
       "    </tr>\n",
       "    <tr>\n",
       "      <th>2</th>\n",
       "      <td>0.70</td>\n",
       "      <td>0.420</td>\n",
       "    </tr>\n",
       "    <tr>\n",
       "      <th>3</th>\n",
       "      <td>1.00</td>\n",
       "      <td>1.506</td>\n",
       "    </tr>\n",
       "  </tbody>\n",
       "</table>"
      ],
      "text/plain": [
       "<IPython.core.display.HTML object>"
      ]
     },
     "metadata": {},
     "output_type": "display_data"
    }
   ],
   "source": [
    "errors_table = pd.DataFrame([den_haan_errors.index, den_haan_errors]).T\n",
    "\n",
    "errors_table[0] = (100*errors_table[0]).map('{:.2f}'.format)\n",
    "errors_table[1] = (100*errors_table[1]).map('{:.3f}'.format)\n",
    "\n",
    "errors_table.columns = ['Std. Dev. of TFP Shocks (\\%)', 'Maximum Den Haan Error (\\%)']\n",
    "\n",
    "errors_table.to_latex('../tables/krusell_smith_den_haan_errors.tex', index=False, column_format='cc')\n",
    "\n",
    "pprint(errors_table)"
   ]
  },
  {
   "cell_type": "markdown",
   "id": "f54a7cd0-83eb-4530-9947-91068465c711",
   "metadata": {},
   "source": [
    "# Runtimes"
   ]
  },
  {
   "cell_type": "code",
   "execution_count": 21,
   "id": "e8f2d894-7342-44e4-b3b0-8b973da95b5f",
   "metadata": {},
   "outputs": [],
   "source": [
    "from timeit import default_timer"
   ]
  },
  {
   "cell_type": "code",
   "execution_count": 22,
   "id": "2452c1b1-4d8c-476c-a091-d45c7e3fbf79",
   "metadata": {},
   "outputs": [
    {
     "data": {
      "application/vnd.jupyter.widget-view+json": {
       "model_id": "45aeb5c267884789b647551778193c64",
       "version_major": 2,
       "version_minor": 0
      },
      "text/plain": [
       "  0%|          | 0/100 [00:00<?, ?it/s]"
      ]
     },
     "metadata": {},
     "output_type": "display_data"
    }
   ],
   "source": [
    "runtimes = pd.DataFrame(columns=['start', 'Steady state', 'Derivatives', 'Linear system', 'Simulate IRF'], dtype=float)\n",
    "\n",
    "for run in trange(100):\n",
    "    \n",
    "    start = default_timer()\n",
    "    runtimes.loc[run, 'start'] = 0.\n",
    "\n",
    "    ### Solve steady-state ###\n",
    "\n",
    "    # Chebyshev nodes & differentiation matrix on [amin, amax]\n",
    "    chebyshev = DiffMatOnDomain(xmin=amin, xmax=amax, dmat=Chebyshev(degree=N-1))\n",
    "    a = chebyshev.nodes\n",
    "    Da = chebyshev.at_order(1)\n",
    "\n",
    "    # Size of finite volume cell at boundary constraint, could be anything but we pick a[1]-a[0]\n",
    "    da = a[1]-a[0]\n",
    "\n",
    "    # Repeated asset and tiled income arrays\n",
    "    aa = np.tile(a, 2)\n",
    "    zz = np.repeat(z, N)\n",
    "\n",
    "    # Differentiation matrix w.r.t. a\n",
    "    D_a = np.kron(np.eye(2), Da)\n",
    "\n",
    "    # Switching matrix\n",
    "    GG = np.kron(G,np.eye(N))\n",
    "\n",
    "    # Initialize\n",
    "    rmin = .0001 # Lower bound for steady state interest rate\n",
    "    rmax = rho # Upper bound for steady state interest rate\n",
    "\n",
    "    r = r0 # Initial guess for interest rate\n",
    "    KD = (((alpha) / (r + delta)) ** (1 / (1 - alpha))) * zAvg # Initial guess for capital demand\n",
    "    w = (1 - alpha) * KD**alpha * zAvg**-alpha # Initial guess for wages\n",
    "    v = u_func(w*((1-tau)*zz+mu*(1-zz)) + r*aa)/rho # Initial guess for v\n",
    "\n",
    "    Smin, Smax = np.nan, np.nan # Initialize excess savings\n",
    "\n",
    "    for i_r in range(maxiter_r):\n",
    "\n",
    "        KD = (((alpha) / (r + delta)) ** (1 / (1 - alpha))) * zAvg # Capital demand\n",
    "        w = (1 - alpha) * KD**alpha * zAvg**-alpha # Wages\n",
    "\n",
    "        # Solve HJB via iterative algorithm\n",
    "\n",
    "        for i_hjb in range(maxiter_hjb):\n",
    "\n",
    "            Delta = 0.01*np.exp(i_hjb)+1000*(i_r>0)\n",
    "\n",
    "            dv = D_a@v\n",
    "            c = du_inv(dv)\n",
    "            s = w*((1-tau)*zz+mu*(1-zz)) + r*aa - c\n",
    "\n",
    "            A = s.reshape(-1,1)*D_a + GG\n",
    "            B = (1/Delta + rho)*np.eye(2*N) - A\n",
    "            b = u_func(c) + v/Delta\n",
    "\n",
    "            # Enforce lower asset constraint\n",
    "            B[0] = D_a[0]\n",
    "            b[0] = du_func(w*((1-tau)*zz[0]+mu*(1-zz[0])) + r*aa[0])\n",
    "\n",
    "            # Enforce upper asset constraint if it binds\n",
    "            if s[-1] >= 0:\n",
    "                B[-1] = D_a[-1]\n",
    "                b[-1] = du_func(w*((1-tau)*zz[-1]+mu*(1-zz[-1])) + r*aa[-1])\n",
    "\n",
    "            v_old = v.copy()\n",
    "            v = np.linalg.solve(B,b)\n",
    "\n",
    "            if np.max(np.abs(v_old-v)) < crit_hjb: break\n",
    "\n",
    "        # Solve KFE via spectral method with finite volume boundary cells\n",
    "\n",
    "        try:\n",
    "            amax2 = a[np.where(s[N:]>=0)[0][-1]+1] # Effective upper asset boundary where high-income savings turn negative\n",
    "        except:\n",
    "            amax2 = amax\n",
    "\n",
    "        chebyshev_interior = DiffMatOnDomain(xmin=amin+da, xmax=amax2-da, dmat=Chebyshev(degree=N-1-2)) # Chebyshev nodes & differentiation matrix on [amin+da, amax-da]\n",
    "        Da2_interior = chebyshev_interior.at_order(1)\n",
    "\n",
    "        Da2_interior_pinv = np.linalg.pinv(Da2_interior) # Antiderivative matrix\n",
    "        integrator = Da2_interior_pinv[-1] - Da2_interior_pinv[0] # Integral between boundaries amin+da, xmax=amax2-da\n",
    "\n",
    "        a2 = np.hstack([amin, chebyshev_interior.nodes, amax2])\n",
    "        aa2 = np.tile(a2, 2)\n",
    "\n",
    "        Da2 = np.zeros((N,N))\n",
    "        Da2[1:-1,1:-1] = Da2_interior\n",
    "        D_a2 = np.kron(np.eye(2), Da2)\n",
    "\n",
    "        interpolation_matrix = compute_interpolation_matrix(a, a2)\n",
    "\n",
    "        s2 = np.hstack([interpolation_matrix @ s[:N], interpolation_matrix @ s[N:]])\n",
    "\n",
    "        C = -D_a2*s2 + GG.T\n",
    "\n",
    "        C[0,0], C[0,1], C[0,N] = -lambda1, -s[1]/da, lambda2 # Net flows for low-income @ bottom constraint\n",
    "        C[N,0], C[N,N] = lambda1, -lambda2-s[N]/da # Net flows for high-income @ bottom constraint\n",
    "        C[N+1,:], C[N+1,N], C[N+1,N+1], C[N+1,1] = 0, s[N]/da, -lambda2-s[N+1]/da, lambda1 # Net flows for high-income just above bottom constraint\n",
    "\n",
    "        C[-1,-1], C[-1,-2], C[-1,-(N+1)] = -lambda2+s[-1]/da, s[-2]/da, lambda1 # Net flows for high-income @ top constraint\n",
    "        C[-(N+1),-1], C[-(N+1),-(N+1)] = lambda2, -lambda1+s[-(N+1)]/da # Net flows for low-income @ top constraint\n",
    "        C[-(N+2),:], C[-(N+2),-(N+1)], C[-(N+2),-(N+2)], C[-(N+2),-2] = 0, -s[-(N+1)]/da, -lambda1+s[-(N+2)]/da, lambda2 # Net flows for low-income just below top constraint\n",
    "\n",
    "        # Compute & normalize zero eigenvector\n",
    "        l, g = sparse.linalg.eigs(C, sigma=0, k=1)\n",
    "        g = np.real_if_close(g).flatten()\n",
    "        g /= compute_expectation(g, np.ones_like(g), integrator)\n",
    "\n",
    "        # Compute capital\n",
    "        KS = compute_expectation(g, aa2, integrator)\n",
    "        S = KS-KD\n",
    "\n",
    "        if S>crit_S:\n",
    "            rmax, Smax = r, S\n",
    "        elif S<-crit_S:\n",
    "            rmin, Smin = r, S\n",
    "        else:\n",
    "            break\n",
    "\n",
    "        if np.isnan(Smin) or np.isnan(Smax):\n",
    "            r = (rmin+rmax)/2 # Dichotomy\n",
    "        else:\n",
    "            r = (Smax * rmin - Smin * rmax) / (Smax - Smin) # Secant\n",
    "\n",
    "    K = KS # Steady-state capital, exactly consistent with g\n",
    "    r = alpha * K**(alpha-1) * zAvg**(1-alpha) - delta # Steady-state interest rate\n",
    "    w = (1 - alpha) * KS**alpha * zAvg**-alpha # Steady-state wages\n",
    "    \n",
    "    runtimes.loc[run, 'Steady state'] = default_timer() - start\n",
    "\n",
    "    ### Compute derivatives ###\n",
    "\n",
    "    gtrunc = g[:-1]\n",
    "\n",
    "    # This approach is slightly faster than the one above, but also slightly less elegant\n",
    "    def compute_dXt_KYCI(X):\n",
    "    \n",
    "        # Unpack vector X\n",
    "        v = X[:2*N]\n",
    "        gtrunc = X[2*N:4*N-1]\n",
    "        Z = X[-1]\n",
    "\n",
    "        # Complete distribution\n",
    "        g = complete_gtrunc(gtrunc)\n",
    "\n",
    "        # Compute macro aggregates\n",
    "        K = compute_expectation(g, aa2, integrator) # Capital\n",
    "        Y = jnp.exp(Z) * (K ** alpha) * (zAvg ** (1 - alpha)) # Output\n",
    "        r = jnp.exp(Z) * alpha * K**(alpha-1) * zAvg**(1-alpha) - delta # Interest rate\n",
    "        w = jnp.exp(Z) * (1 - alpha) * KS**alpha * zAvg**-alpha # Wages\n",
    "\n",
    "        # Compute decision rules \n",
    "        dv = D_a@v\n",
    "        c = du_inv(dv)\n",
    "        s = w*((1-tau)*zz+mu*(1-zz)) + r*aa - c\n",
    "\n",
    "        # Evolution of value function (with credit constraint)\n",
    "        A = s.reshape(-1,1)*D_a + GG\n",
    "        dvt = u_func(c) + A @ v - rho*v\n",
    "\n",
    "        # Evolution of distribution\n",
    "\n",
    "        s2 = jnp.hstack([interpolation_matrix @ s[:N], interpolation_matrix @ s[N:]])\n",
    "\n",
    "        C = -D_a2*s2 + GG.T\n",
    "\n",
    "        C = C.at[0, 1].add(-s[1] / da)\n",
    "    \n",
    "        C = C.at[N, N].add(- s[N] / da)\n",
    "\n",
    "        C = C.at[N + 1, :].set(0)\n",
    "        C = C.at[N + 1, N].set(s[N] / da)\n",
    "        C = C.at[N + 1, N + 1].set(-lambda2-s[N+1] / da)\n",
    "        C = C.at[N + 1, 1].set(lambda1)\n",
    "\n",
    "        C = C.at[-1, -1].add(s[-1] / da)\n",
    "        C = C.at[-1, -2].add(s[-2] / da)\n",
    "\n",
    "        C = C.at[-(N + 1), -(N + 1)].add(s[-(N + 1)] / da)\n",
    "\n",
    "        C = C.at[-(N + 2), :].set(0)\n",
    "        C = C.at[-(N + 2), -(N + 1)].set(-s[-(N + 1)] / da)\n",
    "        C = C.at[-(N + 2), -(N + 2)].set(-lambda1+s[-(N + 2)] / da)\n",
    "        C = C.at[-(N + 2), -2].set(lambda2)\n",
    "\n",
    "        dgt = (C @ g)[:-1]\n",
    "        \n",
    "        # Evolution of TFP Z\n",
    "\n",
    "        dZt = -(1-rhoTFP)*Z\n",
    "\n",
    "        # Compute consumption\n",
    "\n",
    "        c2 = jnp.hstack([interpolation_matrix @ c[:N], interpolation_matrix @ c[N:]])\n",
    "        C = compute_expectation(g, c2, integrator)\n",
    "\n",
    "        # Compute investment\n",
    "\n",
    "        I = compute_expectation(g, s2, integrator) + delta*K\n",
    "\n",
    "        return jnp.hstack([-dvt, dgt, dZt, K, Y, C, I])\n",
    "\n",
    "    M_full = jax.jacfwd(compute_dXt_KYCI)(X_steadystate)\n",
    "\n",
    "    M = M_full[:4*N,:]\n",
    "\n",
    "    M_KYCI = M_full[4*N:,:]\n",
    "    extend_state = np.vstack([np.eye(4*N), M_KYCI])\n",
    "    \n",
    "    runtimes.loc[run, 'Derivatives'] = default_timer() - start\n",
    "\n",
    "    ### Solve linear system ###\n",
    "\n",
    "    M_stab, psi_stab, F, existence, uniqueness = schur_solver(M, psi_stab, n_state_vars=2*N, verbose=False)\n",
    "    \n",
    "    runtimes.loc[run, 'Linear system'] = default_timer() - start\n",
    "\n",
    "    ### Simulate IRF ###\n",
    "\n",
    "    shocks = np.zeros(T)\n",
    "    shocks[0] = 1.\n",
    "\n",
    "    simulation = np.zeros((4*N, T))\n",
    "\n",
    "    implicit_update = np.linalg.inv(np.eye(4*N) - M_stab * dt)\n",
    "\n",
    "    for i in range(T-1):\n",
    "        simulation[:, i+1] = implicit_update @ (simulation[:, i] + dt**0.5 * psi_stab * shocks[i])\n",
    "\n",
    "    simulation_extended = extend_state @ simulation\n",
    "    \n",
    "    runtimes.loc[run, 'Simulate IRF'] = default_timer() - start"
   ]
  },
  {
   "cell_type": "code",
   "execution_count": 23,
   "id": "8787e4be-0b9d-4e7a-abea-ab0e807ce9b3",
   "metadata": {},
   "outputs": [
    {
     "data": {
      "text/html": [
       "<table border=\"1\" class=\"dataframe\">\n",
       "  <thead>\n",
       "    <tr style=\"text-align: right;\">\n",
       "      <th></th>\n",
       "      <th>Runtime</th>\n",
       "    </tr>\n",
       "  </thead>\n",
       "  <tbody>\n",
       "    <tr>\n",
       "      <th>Steady state</th>\n",
       "      <td>0.047s</td>\n",
       "    </tr>\n",
       "    <tr>\n",
       "      <th>Derivatives</th>\n",
       "      <td>0.230s</td>\n",
       "    </tr>\n",
       "    <tr>\n",
       "      <th>Linear system</th>\n",
       "      <td>0.011s</td>\n",
       "    </tr>\n",
       "    <tr>\n",
       "      <th>Simulate IRF</th>\n",
       "      <td>0.034s</td>\n",
       "    </tr>\n",
       "    <tr>\n",
       "      <th>\\textbf{Total}</th>\n",
       "      <td>0.322s</td>\n",
       "    </tr>\n",
       "  </tbody>\n",
       "</table>"
      ],
      "text/plain": [
       "<IPython.core.display.HTML object>"
      ]
     },
     "metadata": {},
     "output_type": "display_data"
    }
   ],
   "source": [
    "runtimes_table = runtimes.mean().diff().dropna()\n",
    "\n",
    "runtimes_table[r'\\textbf{Total}'] = runtimes_table.sum()\n",
    "\n",
    "runtimes_table = runtimes_table.map('{:.3f}'.format).astype(str) + 's'\n",
    "\n",
    "runtimes_table.name = 'Runtime'\n",
    "\n",
    "runtimes_table.to_latex('../tables/krusell_smith_runtimes.tex', column_format='lc')\n",
    "\n",
    "pprint(runtimes_table)"
   ]
  },
  {
   "cell_type": "code",
   "execution_count": 24,
   "id": "1041c23f-b7be-4696-a7c3-fccc79fb7ecb",
   "metadata": {},
   "outputs": [
    {
     "name": "stdout",
     "output_type": "stream",
     "text": [
      "The slowest run took 26.13 times longer than the fastest. This could mean that an intermediate result is being cached.\n",
      "1.39 ms ± 1.19 ms per loop (mean ± std. dev. of 1000 runs, 1 loop each)\n"
     ]
    }
   ],
   "source": [
    "%%timeit -r 1000 -n 1\n",
    "compute_M(X_steadystate)"
   ]
  }
 ],
 "metadata": {
  "kernelspec": {
   "display_name": "Python 3 (ipykernel)",
   "language": "python",
   "name": "python3"
  },
  "language_info": {
   "codemirror_mode": {
    "name": "ipython",
    "version": 3
   },
   "file_extension": ".py",
   "mimetype": "text/x-python",
   "name": "python",
   "nbconvert_exporter": "python",
   "pygments_lexer": "ipython3",
   "version": "3.9.12"
  },
  "toc-autonumbering": true,
  "toc-showmarkdowntxt": false
 },
 "nbformat": 4,
 "nbformat_minor": 5
}
